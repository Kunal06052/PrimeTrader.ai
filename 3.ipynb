{
 "cells": [
  {
   "cell_type": "code",
   "execution_count": null,
   "metadata": {},
   "outputs": [],
   "source": [
    "import requests\n",
    "import json\n",
    "import pandas as pd\n",
    "import openpyxl\n"
   ]
  },
  {
   "cell_type": "code",
   "execution_count": null,
   "metadata": {},
   "outputs": [
    {
     "name": "stdout",
     "output_type": "stream",
     "text": [
      "Data and analysis saved to top_50_cryptocurrencies_with_analysis.xlsx\n",
      "Data and analysis saved to top_50_cryptocurrencies_with_analysis.xlsx\n"
     ]
    }
   ],
   "source": [
    "import requests\n",
    "import pandas as pd\n",
    "import time\n",
    "import os\n",
    "\n",
    "# Define the file path\n",
    "file_path = os.path.join(f\"{os.getcwd()}/output_data\", 'top_50_cryptocurrencies_with_analysis.xlsx')\n",
    "\n",
    "# Function to fetch data from API and save to Excel\n",
    "def fetch_data():\n",
    "    try:\n",
    "        url = \"https://api.coingecko.com/api/v3/coins/markets\"\n",
    "        params = {\n",
    "            \"vs_currency\": \"usd\",\n",
    "            \"order\": \"market_cap_desc\",\n",
    "            \"per_page\": 50,\n",
    "            \"page\": 1,\n",
    "            \"sparkline\": False\n",
    "        }\n",
    "\n",
    "        response = requests.get(url, params=params)\n",
    "        response.raise_for_status()  # Raise an exception for HTTP errors\n",
    "\n",
    "        data = response.json()\n",
    "\n",
    "        # Extract relevant data\n",
    "        crypto_data = [{\n",
    "            \"Name\": crypto['name'],\n",
    "            \"Symbol\": crypto['symbol'].upper(),\n",
    "            \"Current Price (USD)\": crypto['current_price'],\n",
    "            \"Market Capitalization (USD)\": crypto['market_cap'],\n",
    "            \"24-Hour Trading Volume (USD)\": crypto['total_volume'],\n",
    "            \"Price Change (24-hour, %)\": crypto['price_change_percentage_24h'],\n",
    "        \n",
    "            \n",
    "            \n",
    "            \"Timestamp\": crypto['last_updated']\n",
    "        } for crypto in data]\n",
    "\n",
    "        # Convert to DataFrame\n",
    "        df = pd.DataFrame(crypto_data)\n",
    "\n",
    "        # Basic Analysis\n",
    "        top_5_by_market_cap = df.nlargest(5, 'Market Capitalization (USD)')\n",
    "        avg_price_top_50 = df['Current Price (USD)'].mean()\n",
    "        highest_24h_change = df['Price Change (24-hour, %)'].max()\n",
    "        lowest_24h_change = df['Price Change (24-hour, %)'].min()\n",
    "\n",
    "        # Save to Excel\n",
    "        with pd.ExcelWriter(file_path, engine='openpyxl') as writer:\n",
    "            df.to_excel(writer, sheet_name='Top 50 Cryptos', index=False)\n",
    "\n",
    "            analysis_data = {\n",
    "                'Metric': [\n",
    "                    'Average Price (USD)',\n",
    "                    'Highest 24-Hour Price Change (%)',\n",
    "                    'Lowest 24-Hour Price Change (%)'\n",
    "                ],\n",
    "                'Value': [\n",
    "                    avg_price_top_50,\n",
    "                    highest_24h_change,\n",
    "                    lowest_24h_change\n",
    "                ]\n",
    "            }\n",
    "            pd.DataFrame(analysis_data).to_excel(writer, sheet_name='Analysis', index=False)\n",
    "            top_5_by_market_cap.to_excel(writer, sheet_name='Top 5 by Market Cap', index=False)\n",
    "\n",
    "        print(\"Data and analysis saved to top_50_cryptocurrencies_with_analysis.xlsx\")\n",
    "    \n",
    "    except requests.exceptions.RequestException as e:\n",
    "        print(f\"Error fetching data: {e}\")\n",
    "    except PermissionError:\n",
    "        print(\"Permission denied: Please ensure the Excel file is not open and the script has write permissions.\")\n",
    "\n",
    "# Continuous fetching every 5 minutes\n",
    "while True:\n",
    "    fetch_data()\n",
    "    time.sleep(600)  # 300 seconds = 5 minutes"
   ]
  },
  {
   "cell_type": "code",
   "execution_count": null,
   "metadata": {},
   "outputs": [],
   "source": []
  }
 ],
 "metadata": {
  "kernelspec": {
   "display_name": "Python 3",
   "language": "python",
   "name": "python3"
  },
  "language_info": {
   "codemirror_mode": {
    "name": "ipython",
    "version": 3
   },
   "file_extension": ".py",
   "mimetype": "text/x-python",
   "name": "python",
   "nbconvert_exporter": "python",
   "pygments_lexer": "ipython3",
   "version": "3.12.3"
  }
 },
 "nbformat": 4,
 "nbformat_minor": 2
}
